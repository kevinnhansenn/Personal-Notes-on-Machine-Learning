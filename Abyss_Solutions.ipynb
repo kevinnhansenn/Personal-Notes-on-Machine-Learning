{
  "nbformat": 4,
  "nbformat_minor": 0,
  "metadata": {
    "colab": {
      "name": "Abyss_Solutions.ipynb",
      "provenance": [],
      "collapsed_sections": [],
      "authorship_tag": "ABX9TyOmOCYkOyUmiZbqxHkUb+nt",
      "include_colab_link": true
    },
    "kernelspec": {
      "name": "python3",
      "display_name": "Python 3"
    }
  },
  "cells": [
    {
      "cell_type": "markdown",
      "metadata": {
        "id": "view-in-github",
        "colab_type": "text"
      },
      "source": [
        "<a href=\"https://colab.research.google.com/github/kevinnhansenn/Personal-Notes-on-Machine-Learning/blob/master/Abyss_Solutions.ipynb\" target=\"_parent\"><img src=\"https://colab.research.google.com/assets/colab-badge.svg\" alt=\"Open In Colab\"/></a>"
      ]
    },
    {
      "cell_type": "code",
      "metadata": {
        "id": "F1UBsYKc6_ut",
        "colab_type": "code",
        "colab": {}
      },
      "source": [
        "import numpy as np \n",
        "import matplotlib.pyplot as plt"
      ],
      "execution_count": 0,
      "outputs": []
    },
    {
      "cell_type": "code",
      "metadata": {
        "id": "q1QksPHC7fPA",
        "colab_type": "code",
        "colab": {}
      },
      "source": [
        "def estimate_coef(x, y): \n",
        "    # number of observations/points \n",
        "    n = np.size(x) \n",
        "  \n",
        "    # mean of x and y vector \n",
        "    m_x, m_y = np.mean(x), np.mean(y) \n",
        "  \n",
        "    # calculating cross-deviation and deviation about x \n",
        "    SS_xy = np.sum(y*x) - n*m_y*m_x \n",
        "    SS_xx = np.sum(x*x) - n*m_x*m_x \n",
        "  \n",
        "    # calculating regression coefficients \n",
        "    b_1 = SS_xy / SS_xx \n",
        "    b_0 = m_y - b_1*m_x \n",
        "  \n",
        "    return(b_0, b_1) "
      ],
      "execution_count": 0,
      "outputs": []
    },
    {
      "cell_type": "code",
      "metadata": {
        "id": "W50TOiUZ8Ni9",
        "colab_type": "code",
        "colab": {}
      },
      "source": [
        "def plot_regression_line(x, y, b): \n",
        "\n",
        "    labels = ['25', '36', '45', '54', '72', '83']\n",
        "\n",
        "    for i, label in enumerate(labels):\n",
        "      plt.scatter(x[i], y[i], color = \"b\", marker = \"o\", s = 30) \n",
        "      plt.text(x[i]+0.1, y[i]-3, label, fontsize=9)\n",
        "    \n",
        "    x = np.append(x, [6])\n",
        "  \n",
        "    y_answer = b[0] + b[1]*6 \n",
        "\n",
        "    plt.scatter(6, y_answer, color = \"r\", marker = \"x\", s = 40) \n",
        "    plt.text(6+0.1, y_answer-3, y_answer, fontsize=9, color=\"r\")\n",
        "\n",
        "    # predicted response vector \n",
        "    y_pred = b[0] + b[1]*x \n",
        "  \n",
        "    # plotting the regression line \n",
        "    plt.plot(x, y_pred, color = \"g\") \n",
        "  \n",
        "    # putting labels \n",
        "    plt.xlabel('x') \n",
        "    plt.ylabel('y') \n",
        "    plt.title('Predicting Next Number Using Linear Regression')\n",
        "\n",
        "    # function to show plot \n",
        "    plt.show() "
      ],
      "execution_count": 0,
      "outputs": []
    },
    {
      "cell_type": "code",
      "metadata": {
        "id": "pXlJb5zR8Tko",
        "colab_type": "code",
        "colab": {}
      },
      "source": [
        "def main(): \n",
        "    # observations \n",
        "    x = np.array([0, 1, 2, 3, 4, 5]) \n",
        "    y = np.array([25, 36, 45, 54, 72, 83]) \n",
        "  \n",
        "    # estimating coefficients \n",
        "    b = estimate_coef(x, y) \n",
        "    print(\"Estimated coefficients:\\ny-intercept = {} \\ngradient = {}\".format(b[0], b[1])) \n",
        "  \n",
        "    # plotting regression line \n",
        "    plot_regression_line(x, y, b) "
      ],
      "execution_count": 0,
      "outputs": []
    },
    {
      "cell_type": "code",
      "metadata": {
        "id": "wU1H6uJ7DE1e",
        "colab_type": "code",
        "colab": {
          "base_uri": "https://localhost:8080/",
          "height": 346
        },
        "outputId": "fbd1a1b4-5e58-4665-c9a5-8d7d89de7059"
      },
      "source": [
        "main()"
      ],
      "execution_count": 57,
      "outputs": [
        {
          "output_type": "stream",
          "text": [
            "Estimated coefficients:\n",
            "y-intercept = 23.42857142857143 \n",
            "gradient = 11.628571428571428\n"
          ],
          "name": "stdout"
        },
        {
          "output_type": "display_data",
          "data": {
            "image/png": "[encoded data removed]",
            "text/plain": [
              "<Figure size 432x288 with 1 Axes>"
            ]
          },
          "metadata": {
            "tags": []
          }
        }
      ]
    }
  ]
}